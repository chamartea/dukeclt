{
 "metadata": {
  "language_info": {
   "codemirror_mode": {
    "name": "ipython",
    "version": 3
   },
   "file_extension": ".py",
   "mimetype": "text/x-python",
   "name": "python",
   "nbconvert_exporter": "python",
   "pygments_lexer": "ipython3",
   "version": 3
  },
  "orig_nbformat": 4
 },
 "nbformat": 4,
 "nbformat_minor": 2,
 "cells": [
  {
   "source": [
    "# How to use this code to connect to the Airtable\n",
    "____\n",
    "_Adding a record_\n",
    "\n",
    "_Getting all records_\n",
    "\n",
    "_Pre-processing the data_\n",
    "\n",
    "_Examples of data analysis_\n",
    "\n",
    "_Getting a record using..._\n",
    "\n",
    "_etc._"
   ],
   "cell_type": "markdown",
   "metadata": {}
  },
  {
   "source": [
    "## Adding a record"
   ],
   "cell_type": "markdown",
   "metadata": {}
  },
  {
   "cell_type": "code",
   "execution_count": null,
   "metadata": {},
   "outputs": [],
   "source": [
    "import main as db\n",
    "\n",
    "db.add_record(Name=\"Example\", Link=\"www.google.com\", Approx_Start_Date=\"\") # ..."
   ]
  },
  {
   "source": [
    "## Getting all records"
   ],
   "cell_type": "markdown",
   "metadata": {}
  },
  {
   "cell_type": "code",
   "execution_count": null,
   "metadata": {},
   "outputs": [],
   "source": [
    "## Gets all the data from the airtable"
   ]
  },
  {
   "source": [
    "## Pre processes the data in some way to make it easy to analyze"
   ],
   "cell_type": "code",
   "metadata": {},
   "execution_count": null,
   "outputs": []
  },
  {
   "cell_type": "code",
   "execution_count": null,
   "metadata": {},
   "outputs": [],
   "source": [
    "## A few examples of data analysis..."
   ]
  }
 ]
}