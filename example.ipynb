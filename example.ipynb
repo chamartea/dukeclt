{
 "metadata": {
  "language_info": {
   "codemirror_mode": {
    "name": "ipython",
    "version": 3
   },
   "file_extension": ".py",
   "mimetype": "text/x-python",
   "name": "python",
   "nbconvert_exporter": "python",
   "pygments_lexer": "ipython3",
   "version": 3
  },
  "orig_nbformat": 4
 },
 "nbformat": 4,
 "nbformat_minor": 2,
 "cells": [
  {
   "source": [
    "# How to use this code to connect to the Airtable\n",
    "____\n",
    "_Adding a record_\n",
    "\n",
    "_Getting all records_\n",
    "\n",
    "_Getting a record using..._\n",
    "\n",
    "_Updating a record_\n",
    "\n",
    "_etc._"
   ],
   "cell_type": "markdown",
   "metadata": {}
  },
  {
   "source": [
    "## Adding a record"
   ],
   "cell_type": "markdown",
   "metadata": {}
  },
  {
   "cell_type": "code",
   "execution_count": null,
   "metadata": {},
   "outputs": [],
   "source": [
    "import main as db\n",
    "\n",
    "db.add_record(Name=\"Example\", Link=\"www.google.com\", Approx_Start_Date=\"\") # ..."
   ]
  },
  {
   "source": [
    "## Getting all records"
   ],
   "cell_type": "markdown",
   "metadata": {}
  }
 ]
}