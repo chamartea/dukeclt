{
 "metadata": {
  "language_info": {
   "codemirror_mode": {
    "name": "ipython",
    "version": 3
   },
   "file_extension": ".py",
   "mimetype": "text/x-python",
   "name": "python",
   "nbconvert_exporter": "python",
   "pygments_lexer": "ipython3",
   "version": "3.8.5"
  },
  "orig_nbformat": 4,
  "kernelspec": {
   "name": "python3",
   "display_name": "Python 3.8.5 64-bit ('base': conda)"
  },
  "interpreter": {
   "hash": "a5b7aeff42ba6761a280498ade45e749cf5f5c1a448f52619a139fff18264354"
  }
 },
 "nbformat": 4,
 "nbformat_minor": 2,
 "cells": [
  {
   "source": [
    "# Law Tech Database\n",
    "### DLCT / TFE\n",
    "____\n",
    "\n",
    "_Getting all records_\n",
    "\n",
    "_Pre-processing the data_\n",
    "\n",
    "_Examples of data analysis_\n",
    "\n",
    "_Getting a record using..._\n",
    "\n",
    "_etc._"
   ],
   "cell_type": "markdown",
   "metadata": {}
  },
  {
   "source": [
    "## Getting all records"
   ],
   "cell_type": "markdown",
   "metadata": {}
  },
  {
   "cell_type": "code",
   "execution_count": null,
   "metadata": {},
   "outputs": [],
   "source": [
    "# Standard imports for loading data\n",
    "import requests\n",
    "import numpy as np\n",
    "\n",
    "AIRTABLE_BASE_ID= 'apph59FEIK9tFsbeP'\n",
    "AIRTABLE_API_KEY = 'keyMvIhftiZpciEpD'\n",
    "AIRTABLE_TABLE_NAME = 'backend_test'\n",
    "endpoint= f'https://api.airtable.com/v0/{AIRTABLE_BASE_ID}/{AIRTABLE_TABLE_NAME}?view=Grid+view'\n",
    "\n",
    "headers = {\n",
    "    \"Authorization\": f\"Bearer {AIRTABLE_API_KEY}\",\n",
    "    \"Content-Type\": \"application/json\"\n",
    "}"
   ]
  },
  {
   "cell_type": "code",
   "execution_count": null,
   "metadata": {},
   "outputs": [],
   "source": [
    "# Iterative queries to get all records\n",
    "res = requests.get(endpoint, headers=headers).json()\n",
    "records = np.array(res[\"records\"])\n",
    "while(\"offset\" in res):\n",
    "    res = requests.get(endpoint, headers=headers, params={\"offset\":res[\"offset\"]}).json()\n",
    "    records = np.append(records, res[\"records\"])\n",
    "print(records.shape)"
   ]
  },
  {
   "source": [
    "## Pre-processing the data"
   ],
   "cell_type": "markdown",
   "metadata": {}
  },
  {
   "source": [
    "# Pre processes the data in some way to make it easy to analyze\n",
    "record_template ={\n",
    "    'Name': None, \n",
    "    'Link': None, \n",
    "    'Funding_Sources': None, \n",
    "    'Approx_End_Date': None, \n",
    "    'Funders': None, \n",
    "    'End_Users': None, \n",
    "    'Use_Case': None, \n",
    "    'Death_Cause': None, \n",
    "    'Post_Mortem': None, \n",
    "    'Successor_Projects': [], \n",
    "    'Life_Proof': None, \n",
    "    'Approx_Start_Date': None,\n",
    "}\n",
    "\n",
    "## Loops through records, replaces empty values with none, and adds them all to a list\n",
    "data = []\n",
    "for record in records:\n",
    "    record = record[\"fields\"]\n",
    "    temp = {**record_template, **record}\n",
    "    data.append(list(temp.values()))\n",
    "\n",
    "data = np.array(data)"
   ],
   "cell_type": "code",
   "metadata": {
    "tags": [
     "outputPrepend"
    ]
   },
   "execution_count": null,
   "outputs": []
  },
  {
   "source": [
    "## Examples of data analysis"
   ],
   "cell_type": "markdown",
   "metadata": {}
  },
  {
   "cell_type": "code",
   "execution_count": null,
   "metadata": {},
   "outputs": [],
   "source": [
    "# A few examples of data analysis...\n"
   ]
  }
 ]
}